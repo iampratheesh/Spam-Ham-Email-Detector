{
 "cells": [
  {
   "cell_type": "markdown",
   "metadata": {},
   "source": [
    "# Building a Spam Filter using Naive - Bayes Algorithms"
   ]
  },
  {
   "cell_type": "code",
   "execution_count": 1,
   "metadata": {
    "collapsed": true
   },
   "outputs": [],
   "source": [
    "## Import libraries\n",
    "import numpy as np\n",
    "import pandas as pd\n",
    "import matplotlib.pyplot as plt\n",
    "import seaborn as sns\n",
    "%matplotlib inline\n",
    "import sqlite3    ## SQL Interface\n",
    "import pickle     ## Used to save your data - Converts objects to byte stream and vice versa\n",
    "\n",
    "from sklearn.feature_extraction.text import CountVectorizer  ## BOW Model\n",
    "from sklearn.feature_extraction.text import TfidfVectorizer  ## TFIDF Model\n",
    "\n",
    "#for text - preprocessing\n",
    "import re\n",
    "import nltk\n",
    "from nltk.stem.snowball import SnowballStemmer   \n",
    "from nltk.corpus import stopwords\n",
    "\n",
    "from sklearn.naive_bayes import BernoulliNB      #Bernoulli Naive - Bayes\n",
    "from sklearn.naive_bayes import MultinomialNB    #Multinomial Naive - Bayes\n",
    "\n",
    "from sklearn.preprocessing import StandardScaler\n",
    "from sklearn.model_selection import train_test_split\n",
    "from matplotlib.colors import ListedColormap\n",
    "from sklearn.model_selection import cross_val_score\n",
    "\n",
    "#Metrics to be used after preparing model\n",
    "from sklearn.metrics import accuracy_score\n",
    "from sklearn.metrics import confusion_matrix\n",
    "from sklearn.metrics import f1_score\n",
    "\n",
    "import glob  #To read multiple files in a given path\n",
    "from sklearn.utils import shuffle  #To shuffle the dataframe"
   ]
  },
  {
   "cell_type": "code",
   "execution_count": 5,
   "metadata": {
    "collapsed": true
   },
   "outputs": [],
   "source": [
    "#Run this cell twice. Once to read ham emails second time to read spam emails\n",
    "path = 'C:/Users/Pratheesh/Desktop/Desktop/Machine Learning/Spam Detection/Spam Dataset/Spam emails/*'\n",
    "'''Setting the path to read Spam emails.\n",
    "Put '*' at the end of the path to access files inside directory\n",
    "To access Ham emails, change the directory to where it's located\n",
    "'''\n",
    "files = glob.glob(path)\n",
    "spam_mail = []\n",
    "#ham_mail = []                            #uncomment this line and comment the above line while reading ham_mails\n",
    "for mails in files:                       #accessing all the txt files using a loop\n",
    "    with open(mails) as f:                #opening each file\n",
    "        for i,line in enumerate(f):\n",
    "            if i>=2:        #reading from the third line as first two line contains 'Subject' which need not be included. \n",
    "                spam_mail.append(line)\n",
    "                #ham_mail.append(line)    #uncomment this line and comment the above line while reading ham_mails"
   ]
  },
  {
   "cell_type": "code",
   "execution_count": 6,
   "metadata": {
    "collapsed": true
   },
   "outputs": [],
   "source": [
    "df1 = pd.DataFrame(spam_mail,columns = ['Mails'])  #Converting list to dataframe and labelling the column\n",
    "df1['Label'] = 1  #Adding label as '1' for spam emails\n",
    "df2 = pd.DataFrame(ham_mail, columns = ['Mails']) \n",
    "df2['Label'] = 0  #Adding label as '0' for ham emails\n",
    "df = pd.concat((df1,df2),axis = 0)"
   ]
  },
  {
   "cell_type": "code",
   "execution_count": 7,
   "metadata": {},
   "outputs": [
    {
     "data": {
      "text/plain": [
       "(962, 2)"
      ]
     },
     "execution_count": 7,
     "metadata": {},
     "output_type": "execute_result"
    }
   ],
   "source": [
    "df.shape"
   ]
  },
  {
   "cell_type": "code",
   "execution_count": 8,
   "metadata": {
    "collapsed": true
   },
   "outputs": [],
   "source": [
    "conn = sqlite3.connect('mails.sqlite')    #Saving the changes made above into a new sqlite file\n",
    "c=conn.cursor()\n",
    "df.to_sql('Mails', conn, if_exists='replace')\n",
    "conn.close()"
   ]
  },
  {
   "cell_type": "code",
   "execution_count": 9,
   "metadata": {},
   "outputs": [
    {
     "data": {
      "text/html": [
       "<div>\n",
       "<style>\n",
       "    .dataframe thead tr:only-child th {\n",
       "        text-align: right;\n",
       "    }\n",
       "\n",
       "    .dataframe thead th {\n",
       "        text-align: left;\n",
       "    }\n",
       "\n",
       "    .dataframe tbody tr th {\n",
       "        vertical-align: top;\n",
       "    }\n",
       "</style>\n",
       "<table border=\"1\" class=\"dataframe\">\n",
       "  <thead>\n",
       "    <tr style=\"text-align: right;\">\n",
       "      <th></th>\n",
       "      <th>Mails</th>\n",
       "      <th>Label</th>\n",
       "    </tr>\n",
       "  </thead>\n",
       "  <tbody>\n",
       "    <tr>\n",
       "      <th>0</th>\n",
       "      <td>* * * * * * * * * * * * * * * display box cred...</td>\n",
       "      <td>1</td>\n",
       "    </tr>\n",
       "    <tr>\n",
       "      <th>1</th>\n",
       "      <td>dear nlpeople , ' m sure ' ll agree auto insur...</td>\n",
       "      <td>1</td>\n",
       "    </tr>\n",
       "    <tr>\n",
       "      <th>2</th>\n",
       "      <td>want best hunt camp vacation life , felton 's ...</td>\n",
       "      <td>1</td>\n",
       "    </tr>\n",
       "    <tr>\n",
       "      <th>3</th>\n",
       "      <td>57 million email addresses $ 99 want money ? p...</td>\n",
       "      <td>1</td>\n",
       "    </tr>\n",
       "    <tr>\n",
       "      <th>4</th>\n",
       "      <td>attention ! warn ! adult ! warn ! adult ! unde...</td>\n",
       "      <td>1</td>\n",
       "    </tr>\n",
       "  </tbody>\n",
       "</table>\n",
       "</div>"
      ],
      "text/plain": [
       "                                               Mails  Label\n",
       "0  * * * * * * * * * * * * * * * display box cred...      1\n",
       "1  dear nlpeople , ' m sure ' ll agree auto insur...      1\n",
       "2  want best hunt camp vacation life , felton 's ...      1\n",
       "3  57 million email addresses $ 99 want money ? p...      1\n",
       "4  attention ! warn ! adult ! warn ! adult ! unde...      1"
      ]
     },
     "execution_count": 9,
     "metadata": {},
     "output_type": "execute_result"
    }
   ],
   "source": [
    "conn = sqlite3.connect('mails.sqlite')  #Loading the sqlite file for future use\n",
    "df = pd.read_sql_query(\"\"\"SELECT * FROM Mails\"\"\", conn)\n",
    "conn.close()\n",
    "df.drop(['index'],axis = 1,inplace = True)\n",
    "df.head()"
   ]
  },
  {
   "cell_type": "code",
   "execution_count": 10,
   "metadata": {
    "collapsed": true
   },
   "outputs": [],
   "source": [
    "stop = set(stopwords.words('english')) #set of stopwords"
   ]
  },
  {
   "cell_type": "code",
   "execution_count": 11,
   "metadata": {
    "collapsed": true
   },
   "outputs": [],
   "source": [
    "def cleanpunc(sentence):\n",
    "    '''This function cleans all the punctuation or special characters from a given sentence'''\n",
    "    cleaned = re.sub(r'[?|@|!|^|%|\\'|\"|#]',r'',sentence)\n",
    "    cleaned = re.sub(r'[.|,|)|(|\\|/|*]',r' ',cleaned)\n",
    "    return  cleaned"
   ]
  },
  {
   "cell_type": "code",
   "execution_count": 12,
   "metadata": {
    "collapsed": true
   },
   "outputs": [],
   "source": [
    "def preprocessing(series):\n",
    "    '''The function takes a Pandas Series object containing text in all the cells\n",
    "       And performs following Preprocessing steps on each cell:\n",
    "       1. Clean text from punctuations and special characters\n",
    "       2. Retain only non-numeric Latin characters with lenght > 2\n",
    "       3. Remove stopwords from the sentence\n",
    "       4. Apply stemming to all the words in the sentence\n",
    "       \n",
    "       Return value:\n",
    "       final_string - List of cleaned sentences\n",
    "       '''\n",
    "    \n",
    "    \n",
    "    str1=\" \"\n",
    "    final_string = []    ## This list will contain cleaned sentences\n",
    "    sno = SnowballStemmer(\"english\")\n",
    "    \n",
    "    for sent in series.values:\n",
    "        ## \n",
    "        filtered_sent = []\n",
    "        sent = cleanpunc(sent)    ## Clean the punctuations and special characters\n",
    "        ## Sentences are cleaned and words are handled individually\n",
    "        for cleaned_words in sent.split():\n",
    "            ## Only consider non-numeric words with length at least 3\n",
    "            if((cleaned_words.isalpha()) and (len(cleaned_words) > 2)):\n",
    "                ## Only consider words which are not stopwords and convert them to lowet case\n",
    "                if(cleaned_words.lower() not in stop):\n",
    "                    ## Apply snowball stemmer and add them to the filtered_sent list\n",
    "                    s = (sno.stem(cleaned_words.lower()))#.encode('utf-8')\n",
    "                    filtered_sent.append(s)    ## This contains all the cleaned words for a sentence\n",
    "\n",
    "        ## Join back all the words belonging to the same sentence\n",
    "        str1 = \" \".join(filtered_sent)\n",
    "        ## Finally add the cleaned sentence in the below list\n",
    "        final_string.append(str1)\n",
    "        \n",
    "    return final_string"
   ]
  },
  {
   "cell_type": "code",
   "execution_count": 13,
   "metadata": {
    "collapsed": true
   },
   "outputs": [],
   "source": [
    "final_string = preprocessing(df['Mails'])  #Preprocessing the 'Mails' column in the DataFrame"
   ]
  },
  {
   "cell_type": "code",
   "execution_count": 14,
   "metadata": {},
   "outputs": [
    {
     "data": {
      "text/html": [
       "<div>\n",
       "<style>\n",
       "    .dataframe thead tr:only-child th {\n",
       "        text-align: right;\n",
       "    }\n",
       "\n",
       "    .dataframe thead th {\n",
       "        text-align: left;\n",
       "    }\n",
       "\n",
       "    .dataframe tbody tr th {\n",
       "        vertical-align: top;\n",
       "    }\n",
       "</style>\n",
       "<table border=\"1\" class=\"dataframe\">\n",
       "  <thead>\n",
       "    <tr style=\"text-align: right;\">\n",
       "      <th></th>\n",
       "      <th>Mails</th>\n",
       "      <th>Label</th>\n",
       "      <th>Mails_Cleaned</th>\n",
       "    </tr>\n",
       "  </thead>\n",
       "  <tbody>\n",
       "    <tr>\n",
       "      <th>0</th>\n",
       "      <td>* * * * * * * * * * * * * * * display box cred...</td>\n",
       "      <td>1</td>\n",
       "      <td>display box credit applic need place small sto...</td>\n",
       "    </tr>\n",
       "    <tr>\n",
       "      <th>1</th>\n",
       "      <td>dear nlpeople , ' m sure ' ll agree auto insur...</td>\n",
       "      <td>1</td>\n",
       "      <td>dear nlpeopl sure agre auto insur cost much ev...</td>\n",
       "    </tr>\n",
       "    <tr>\n",
       "      <th>2</th>\n",
       "      <td>want best hunt camp vacation life , felton 's ...</td>\n",
       "      <td>1</td>\n",
       "      <td>want best hunt camp vacat life felton hunt cam...</td>\n",
       "    </tr>\n",
       "    <tr>\n",
       "      <th>3</th>\n",
       "      <td>57 million email addresses $ 99 want money ? p...</td>\n",
       "      <td>1</td>\n",
       "      <td>million email address want money put touch mil...</td>\n",
       "    </tr>\n",
       "    <tr>\n",
       "      <th>4</th>\n",
       "      <td>attention ! warn ! adult ! warn ! adult ! unde...</td>\n",
       "      <td>1</td>\n",
       "      <td>attent warn adult warn adult age interest sexu...</td>\n",
       "    </tr>\n",
       "  </tbody>\n",
       "</table>\n",
       "</div>"
      ],
      "text/plain": [
       "                                               Mails  Label  \\\n",
       "0  * * * * * * * * * * * * * * * display box cred...      1   \n",
       "1  dear nlpeople , ' m sure ' ll agree auto insur...      1   \n",
       "2  want best hunt camp vacation life , felton 's ...      1   \n",
       "3  57 million email addresses $ 99 want money ? p...      1   \n",
       "4  attention ! warn ! adult ! warn ! adult ! unde...      1   \n",
       "\n",
       "                                       Mails_Cleaned  \n",
       "0  display box credit applic need place small sto...  \n",
       "1  dear nlpeopl sure agre auto insur cost much ev...  \n",
       "2  want best hunt camp vacat life felton hunt cam...  \n",
       "3  million email address want money put touch mil...  \n",
       "4  attent warn adult warn adult age interest sexu...  "
      ]
     },
     "execution_count": 14,
     "metadata": {},
     "output_type": "execute_result"
    }
   ],
   "source": [
    "df['Mails_Cleaned'] = final_string\n",
    "df.head()"
   ]
  },
  {
   "cell_type": "code",
   "execution_count": 15,
   "metadata": {
    "collapsed": true
   },
   "outputs": [],
   "source": [
    "df = shuffle(df, random_state = 123)    #Shuffling the datafame"
   ]
  },
  {
   "cell_type": "markdown",
   "metadata": {},
   "source": [
    "# Binary BoW for Bernoulli Naive - Bayes:"
   ]
  },
  {
   "cell_type": "code",
   "execution_count": 16,
   "metadata": {
    "collapsed": true
   },
   "outputs": [],
   "source": [
    "bow_vect = CountVectorizer(binary = True)   #binary = True for calculating binary BoW\n",
    "bow = bow_vect.fit_transform(df[\"Mails_Cleaned\"].values)"
   ]
  },
  {
   "cell_type": "code",
   "execution_count": 17,
   "metadata": {
    "collapsed": true
   },
   "outputs": [],
   "source": [
    "#Splitting vectors and labels\n",
    "X = bow\n",
    "y = df['Label'].values"
   ]
  },
  {
   "cell_type": "code",
   "execution_count": 18,
   "metadata": {
    "collapsed": true
   },
   "outputs": [],
   "source": [
    "X_train, X_test, y_train, y_test = train_test_split(X, y, test_size = 0.3, shuffle = False)  #Splitting data"
   ]
  },
  {
   "cell_type": "code",
   "execution_count": 19,
   "metadata": {},
   "outputs": [
    {
     "name": "stdout",
     "output_type": "stream",
     "text": [
      "\n",
      " The optimal value of alpha is0.1.\n"
     ]
    },
    {
     "data": {
      "image/png": "[encoded data removed]",
      "text/plain": [
       "<matplotlib.figure.Figure at 0x204e4177390>"
      ]
     },
     "metadata": {},
     "output_type": "display_data"
    }
   ],
   "source": [
    "#Performing cross validation\n",
    "alpha = np.linspace(0.1,1,10)  #Creates 10 divisions between 0.1 and 1 \n",
    "cv_score = []  #Declaring an empty list to append all the cross - validation scores later\n",
    "\n",
    "for a in alpha:     \n",
    "    clf = BernoulliNB(alpha = a)  #Function to calculate Bernoulli NB probabilities\n",
    "    scores = cross_val_score(clf, X_train, y_train, cv = 10, scoring = 'accuracy')\n",
    "    cv_score.append(scores.mean())\n",
    "    \n",
    "MSE = [1-x for x in cv_score]\n",
    "\n",
    "optimal_alpha = alpha[MSE.index(min(MSE))]   #Picking up optimal alpha value which has minimum Misclasification Error\n",
    "print('\\n The optimal value of alpha is{}.'.format(optimal_alpha))\n",
    "\n",
    "#Plotting alpha vs Misclassification Error\n",
    "plt.plot(alpha, MSE)\n",
    "plt.xlabel('Alpha')\n",
    "plt.ylabel('Misclassification Error')\n",
    "plt.show()"
   ]
  },
  {
   "cell_type": "code",
   "execution_count": 20,
   "metadata": {
    "scrolled": true
   },
   "outputs": [
    {
     "name": "stdout",
     "output_type": "stream",
     "text": [
      "The accuracy score is 97.5778546713\n",
      "The F1 score is 0.976271186441\n",
      "The confusion matrix is:\n"
     ]
    },
    {
     "data": {
      "text/plain": [
       "array([[138,   1],\n",
       "       [  6, 144]], dtype=int64)"
      ]
     },
     "execution_count": 20,
     "metadata": {},
     "output_type": "execute_result"
    }
   ],
   "source": [
    "#Testing the model for accuracy, confusion matrix and f-1 score with optimal alpha value\n",
    "clf = BernoulliNB(alpha = optimal_alpha)\n",
    "clf.fit(X_train, y_train)\n",
    "y_pred = clf.predict(X_test)\n",
    "acc = accuracy_score(y_test, y_pred, normalize = True)*float(100)\n",
    "print(\"The accuracy score is\",acc)\n",
    "print(\"The F1 score is\",f1_score(y_test,y_pred))\n",
    "print(\"The confusion matrix is:\")\n",
    "confusion_matrix(y_test,y_pred).T"
   ]
  },
  {
   "cell_type": "code",
   "execution_count": 21,
   "metadata": {
    "scrolled": true
   },
   "outputs": [
    {
     "name": "stdout",
     "output_type": "stream",
     "text": [
      "Top 50 words in spam emails\n",
      "mail\n",
      "free\n",
      "pleas\n",
      "one\n",
      "com\n",
      "list\n",
      "receiv\n",
      "http\n",
      "day\n",
      "address\n",
      "inform\n",
      "remov\n",
      "send\n",
      "want\n",
      "need\n",
      "money\n",
      "best\n",
      "order\n",
      "check\n",
      "name\n",
      "offer\n",
      "call\n",
      "includ\n",
      "mani\n",
      "work\n",
      "site\n",
      "email\n",
      "week\n",
      "everi\n",
      "internet\n",
      "follow\n",
      "servic\n",
      "today\n",
      "number\n",
      "www\n",
      "busi\n",
      "market\n",
      "first\n",
      "even\n",
      "click\n",
      "thank\n",
      "start\n",
      "month\n",
      "product\n",
      "state\n",
      "much\n",
      "subject\n",
      "avail\n",
      "messag\n",
      "interest\n",
      "\n",
      "******************************\n",
      "\n",
      "Top 50 words in ham emails\n",
      "linguist\n",
      "languag\n",
      "univers\n",
      "inform\n",
      "one\n",
      "edu\n",
      "research\n",
      "paper\n",
      "includ\n",
      "send\n",
      "follow\n",
      "interest\n",
      "fax\n",
      "present\n",
      "address\n",
      "http\n",
      "english\n",
      "work\n",
      "pleas\n",
      "word\n",
      "call\n",
      "form\n",
      "name\n",
      "two\n",
      "develop\n",
      "list\n",
      "general\n",
      "discuss\n",
      "depart\n",
      "number\n",
      "refer\n",
      "confer\n",
      "relat\n",
      "contact\n",
      "www\n",
      "studi\n",
      "email\n",
      "area\n",
      "differ\n",
      "first\n",
      "post\n",
      "avail\n",
      "special\n",
      "write\n",
      "issu\n",
      "institut\n",
      "theori\n",
      "case\n",
      "possibl\n",
      "topic\n"
     ]
    }
   ],
   "source": [
    "idx = (-clf.feature_log_prob_).argsort()[:2, :50]\n",
    "print('Top 50 words in spam emails')\n",
    "for i in idx[1]:\n",
    "    print(bow_vect.get_feature_names()[i])\n",
    "    \n",
    "print('\\n******************************\\n')\n",
    "print('Top 50 words in ham emails')\n",
    "for i in idx[0]:\n",
    "    print(bow_vect.get_feature_names()[i])"
   ]
  },
  {
   "cell_type": "markdown",
   "metadata": {},
   "source": [
    "# BoW for Multinomial Naive - Bayes:"
   ]
  },
  {
   "cell_type": "code",
   "execution_count": 22,
   "metadata": {
    "collapsed": true
   },
   "outputs": [],
   "source": [
    "bow_vect = CountVectorizer()\n",
    "bow = bow_vect.fit_transform(df[\"Mails_Cleaned\"].values)"
   ]
  },
  {
   "cell_type": "code",
   "execution_count": 23,
   "metadata": {
    "collapsed": true
   },
   "outputs": [],
   "source": [
    "#Splitting the data into vectors and labels\n",
    "X = bow     \n",
    "y = df['Label'].values"
   ]
  },
  {
   "cell_type": "code",
   "execution_count": 24,
   "metadata": {
    "collapsed": true
   },
   "outputs": [],
   "source": [
    "X_train, X_test, y_train, y_test = train_test_split(X, y, test_size = 0.3, shuffle = False)  #Splitting data into train and test sets"
   ]
  },
  {
   "cell_type": "code",
   "execution_count": 25,
   "metadata": {},
   "outputs": [
    {
     "name": "stdout",
     "output_type": "stream",
     "text": [
      "\n",
      " The optimal value of alpha is0.1.\n"
     ]
    },
    {
     "data": {
      "image/png": "[encoded data removed]",
      "text/plain": [
       "<matplotlib.figure.Figure at 0x204eb8e4160>"
      ]
     },
     "metadata": {},
     "output_type": "display_data"
    }
   ],
   "source": [
    "#Performing cross validation\n",
    "alpha = np.linspace(0.1,1,10)  #Creates 10 divisions between 0.1 and 1 \n",
    "cv_score = []  #Declaring an empty list to append all the cross - validation scores later\n",
    "\n",
    "for a in alpha:     \n",
    "    clf = MultinomialNB(alpha = a)  #Function to calculate Bernoulli NB probabilities\n",
    "    scores = cross_val_score(clf, X_train, y_train, cv = 10, scoring = 'accuracy')\n",
    "    cv_score.append(scores.mean())\n",
    "    \n",
    "MSE = [1-x for x in cv_score]\n",
    "\n",
    "optimal_alpha = alpha[MSE.index(min(MSE))]   #Picking up optimal alpha value which has minimum Misclasification Error\n",
    "print('\\n The optimal value of alpha is{}.'.format(optimal_alpha))\n",
    "\n",
    "#Plotting alpha vs Misclassification Error\n",
    "plt.plot(alpha, MSE)\n",
    "plt.xlabel('Alpha')\n",
    "plt.ylabel('Misclassification Error')\n",
    "plt.show()"
   ]
  },
  {
   "cell_type": "code",
   "execution_count": 26,
   "metadata": {},
   "outputs": [
    {
     "name": "stdout",
     "output_type": "stream",
     "text": [
      "The accuracy is 97.9238754325\n",
      "The F1 score is 0.979310344828\n",
      "The confusion matrix is\n"
     ]
    },
    {
     "data": {
      "text/plain": [
       "array([[141,   3],\n",
       "       [  3, 142]], dtype=int64)"
      ]
     },
     "execution_count": 26,
     "metadata": {},
     "output_type": "execute_result"
    }
   ],
   "source": [
    "#Testing the model for accuracy, confusion matrix and f-1 score with optimal alpha value\n",
    "clf = MultinomialNB(alpha = optimal_alpha)\n",
    "clf.fit(X_train, y_train)\n",
    "y_pred = clf.predict(X_test)\n",
    "acc = accuracy_score(y_test, y_pred, normalize = True)*float(100)\n",
    "print(\"The accuracy is\",acc)\n",
    "print(\"The F1 score is\",f1_score(y_test,y_pred))\n",
    "print(\"The confusion matrix is\")\n",
    "confusion_matrix(y_test,y_pred).T"
   ]
  },
  {
   "cell_type": "markdown",
   "metadata": {},
   "source": [
    "# TF - IDF for Multinomial Naive - Bayes"
   ]
  },
  {
   "cell_type": "code",
   "execution_count": 27,
   "metadata": {},
   "outputs": [
    {
     "data": {
      "text/plain": [
       "(962, 18988)"
      ]
     },
     "execution_count": 27,
     "metadata": {},
     "output_type": "execute_result"
    }
   ],
   "source": [
    "tf_idf_vect = TfidfVectorizer()\n",
    "tf_idf = tf_idf_vect.fit_transform(df[\"Mails_Cleaned\"].values)\n",
    "tf_idf.shape"
   ]
  },
  {
   "cell_type": "code",
   "execution_count": 28,
   "metadata": {
    "collapsed": true
   },
   "outputs": [],
   "source": [
    "X = tf_idf\n",
    "y = df['Label'].values"
   ]
  },
  {
   "cell_type": "code",
   "execution_count": 29,
   "metadata": {
    "collapsed": true
   },
   "outputs": [],
   "source": [
    "X_train, X_test, y_train, y_test = train_test_split(X, y, test_size = 0.3, shuffle = False)  #Splitting data"
   ]
  },
  {
   "cell_type": "code",
   "execution_count": 30,
   "metadata": {},
   "outputs": [
    {
     "name": "stdout",
     "output_type": "stream",
     "text": [
      "\n",
      " The optimal value of alpha is0.4.\n"
     ]
    },
    {
     "data": {
      "image/png": "[encoded data removed]",
      "text/plain": [
       "<matplotlib.figure.Figure at 0x204ecd94c88>"
      ]
     },
     "metadata": {},
     "output_type": "display_data"
    }
   ],
   "source": [
    "#Performing cross validation\n",
    "alpha = np.linspace(0.1,1,10)  #Creates 10 divisions between 0.1 and 1 \n",
    "cv_score = []  #Declaring an empty list to append all the cross - validation scores later\n",
    "\n",
    "for a in alpha:     \n",
    "    clf = MultinomialNB(alpha = a)  #Function to calculate Bernoulli NB probabilities\n",
    "    scores = cross_val_score(clf, X_train, y_train, cv = 10, scoring = 'accuracy')\n",
    "    cv_score.append(scores.mean())\n",
    "    \n",
    "MSE = [1-x for x in cv_score]\n",
    "\n",
    "optimal_alpha = alpha[MSE.index(min(MSE))]   #Picking up optimal alpha value which has minimum Misclasification Error\n",
    "print('\\n The optimal value of alpha is{}.'.format(optimal_alpha))\n",
    "\n",
    "#Plotting alpha vs Misclassification Error\n",
    "plt.plot(alpha, MSE)\n",
    "plt.xlabel('Alpha')\n",
    "plt.ylabel('Misclassification Error')\n",
    "plt.show()"
   ]
  },
  {
   "cell_type": "code",
   "execution_count": 31,
   "metadata": {},
   "outputs": [
    {
     "name": "stdout",
     "output_type": "stream",
     "text": [
      "The accuracy is 97.9238754325\n",
      "The F1 score is 0.979452054795\n",
      "The confusion matrix is\n"
     ]
    },
    {
     "data": {
      "text/plain": [
       "array([[140,   2],\n",
       "       [  4, 143]], dtype=int64)"
      ]
     },
     "execution_count": 31,
     "metadata": {},
     "output_type": "execute_result"
    }
   ],
   "source": [
    "#Testing the model for accuracy, confusion matrix and f-1 score with optimal alpha value\n",
    "clf = MultinomialNB(alpha = optimal_alpha)\n",
    "clf.fit(X_train, y_train)\n",
    "y_pred = clf.predict(X_test)\n",
    "acc = accuracy_score(y_test, y_pred, normalize = True)*float(100)\n",
    "print(\"The accuracy is\",acc)\n",
    "print(\"The F1 score is\",f1_score(y_test,y_pred))\n",
    "print(\"The confusion matrix is\")\n",
    "confusion_matrix(y_test,y_pred).T"
   ]
  },
  {
   "cell_type": "code",
   "execution_count": null,
   "metadata": {
    "collapsed": true
   },
   "outputs": [],
   "source": []
  }
 ],
 "metadata": {
  "kernelspec": {
   "display_name": "Python 3",
   "language": "python",
   "name": "python3"
  },
  "language_info": {
   "codemirror_mode": {
    "name": "ipython",
    "version": 3
   },
   "file_extension": ".py",
   "mimetype": "text/x-python",
   "name": "python",
   "nbconvert_exporter": "python",
   "pygments_lexer": "ipython3",
   "version": "3.6.4"
  }
 },
 "nbformat": 4,
 "nbformat_minor": 2
}
